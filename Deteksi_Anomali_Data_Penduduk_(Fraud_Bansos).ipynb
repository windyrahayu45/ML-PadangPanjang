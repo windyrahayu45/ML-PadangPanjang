{
  "nbformat": 4,
  "nbformat_minor": 0,
  "metadata": {
    "colab": {
      "provenance": [],
      "authorship_tag": "ABX9TyOoshpHyVjzxzVD0wo5HyQh",
      "include_colab_link": true
    },
    "kernelspec": {
      "name": "python3",
      "display_name": "Python 3"
    },
    "language_info": {
      "name": "python"
    }
  },
  "cells": [
    {
      "cell_type": "markdown",
      "metadata": {
        "id": "view-in-github",
        "colab_type": "text"
      },
      "source": [
        "<a href=\"https://colab.research.google.com/github/windyrahayu45/ML-PadangPanjang/blob/main/Deteksi_Anomali_Data_Penduduk_(Fraud_Bansos).ipynb\" target=\"_parent\"><img src=\"https://colab.research.google.com/assets/colab-badge.svg\" alt=\"Open In Colab\"/></a>"
      ]
    },
    {
      "cell_type": "code",
      "execution_count": 1,
      "metadata": {
        "colab": {
          "base_uri": "https://localhost:8080/"
        },
        "id": "YzQ1ArKb11-C",
        "outputId": "5133a0c0-dc5f-46df-9d03-153f6df62ebb"
      },
      "outputs": [
        {
          "output_type": "stream",
          "name": "stdout",
          "text": [
            "✅ Dataset dengan deteksi anomali disimpan: dtsen_with_anomalies.csv\n",
            "     nik_kepala_keluarga nama_kepala_keluarga  pendapatan_per_bulan  \\\n",
            "2       3201000000000002         Dewi Hidayat               5868707   \n",
            "5       3201000000000005          Budi Wijaya                560321   \n",
            "10      3201000000000010          Ayu Saputra                707923   \n",
            "27      3201000000000027         Fitri Wijaya               5612787   \n",
            "28      3201000000000028         Tono Hidayat                684042   \n",
            "53      3201000000000053         Agus Hidayat               5585681   \n",
            "54      3201000000000054          Siti Wijaya               5303067   \n",
            "68      3201000000000068         Rina Saputra                748518   \n",
            "78      3201000000000078         Siti Saputra               5815254   \n",
            "111     3201000000000111         Budi Saputra                536386   \n",
            "\n",
            "    penerima_bansos anomaly_label  \n",
            "2             Tidak       Anomali  \n",
            "5                Ya       Anomali  \n",
            "10            Tidak       Anomali  \n",
            "27               Ya       Anomali  \n",
            "28            Tidak       Anomali  \n",
            "53               Ya       Anomali  \n",
            "54            Tidak       Anomali  \n",
            "68               Ya       Anomali  \n",
            "78            Tidak       Anomali  \n",
            "111              Ya       Anomali  \n"
          ]
        }
      ],
      "source": [
        "import pandas as pd\n",
        "from sklearn.ensemble import IsolationForest\n",
        "from sklearn.preprocessing import LabelEncoder, StandardScaler\n",
        "\n",
        "# 1. Load dataset hasil scoring + segmen\n",
        "df = pd.read_csv(\"dtsen_with_segments.csv\")\n",
        "\n",
        "# 2. Encode variabel kategorikal\n",
        "cat_cols = [\"kepemilikan_lahan\",\"kepemilikan_kendaraan\",\n",
        "            \"kepemilikan_tabungan\",\"penerima_bansos\"]\n",
        "df_enc = df.copy()\n",
        "for c in cat_cols:\n",
        "    df_enc[c] = LabelEncoder().fit_transform(df_enc[c].astype(str))\n",
        "\n",
        "# 3. Pilih fitur untuk anomaly detection\n",
        "features = [\n",
        "    \"pendapatan_per_bulan\",\n",
        "    \"pengeluaran_per_bulan\",\n",
        "    \"kepemilikan_lahan\",\n",
        "    \"kepemilikan_kendaraan\",\n",
        "    \"kepemilikan_tabungan\",\n",
        "    \"penerima_bansos\"\n",
        "]\n",
        "\n",
        "# 4. Standardisasi\n",
        "scaler = StandardScaler()\n",
        "X_scaled = scaler.fit_transform(df_enc[features])\n",
        "\n",
        "# 5. Model Isolation Forest\n",
        "iso = IsolationForest(contamination=0.05, random_state=42)\n",
        "df[\"anomaly\"] = iso.fit_predict(X_scaled)\n",
        "\n",
        "# Labeling: -1 = anomali, 1 = normal\n",
        "df[\"anomaly_label\"] = df[\"anomaly\"].map({1:\"Normal\", -1:\"Anomali\"})\n",
        "\n",
        "# 6. Simpan hasil\n",
        "df.to_csv(\"dtsen_with_anomalies.csv\", index=False)\n",
        "print(\"✅ Dataset dengan deteksi anomali disimpan: dtsen_with_anomalies.csv\")\n",
        "\n",
        "# 7. Lihat contoh data mencurigakan\n",
        "print(df[df[\"anomaly_label\"]==\"Anomali\"].head(10)[\n",
        "    [\"nik_kepala_keluarga\",\"nama_kepala_keluarga\",\"pendapatan_per_bulan\",\"penerima_bansos\",\"anomaly_label\"]\n",
        "])\n"
      ]
    }
  ]
}