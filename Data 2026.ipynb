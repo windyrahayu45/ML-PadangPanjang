{
  "nbformat": 4,
  "nbformat_minor": 0,
  "metadata": {
    "colab": {
      "provenance": [],
      "authorship_tag": "ABX9TyOFBx1PRDa/ke0S83QiE74e",
      "include_colab_link": true
    },
    "kernelspec": {
      "name": "python3",
      "display_name": "Python 3"
    },
    "language_info": {
      "name": "python"
    }
  },
  "cells": [
    {
      "cell_type": "markdown",
      "metadata": {
        "id": "view-in-github",
        "colab_type": "text"
      },
      "source": [
        "<a href=\"https://colab.research.google.com/github/windyrahayu45/ML-PadangPanjang/blob/main/Data%202026.ipynb\" target=\"_parent\"><img src=\"https://colab.research.google.com/assets/colab-badge.svg\" alt=\"Open In Colab\"/></a>"
      ]
    },
    {
      "cell_type": "code",
      "execution_count": 1,
      "metadata": {
        "colab": {
          "base_uri": "https://localhost:8080/"
        },
        "id": "iqFjBOkp2ybp",
        "outputId": "2444d2d5-0647-4d2f-d206-b8b976ec59a2"
      },
      "outputs": [
        {
          "output_type": "stream",
          "name": "stdout",
          "text": [
            "✅ Dummy data update berhasil dibuat: dtsen_update_2026.csv\n"
          ]
        }
      ],
      "source": [
        "import pandas as pd\n",
        "import numpy as np\n",
        "\n",
        "# Load baseline\n",
        "df = pd.read_csv(\"dtsen_with_scores.csv\")\n",
        "\n",
        "# Copy jadi versi 2026\n",
        "df_update = df.copy()\n",
        "\n",
        "# Simulasi: penurunan skor untuk sebagian rumah tangga (anggap 40% dapat program)\n",
        "np.random.seed(42)\n",
        "mask_program = np.random.rand(len(df_update)) < 0.4\n",
        "\n",
        "# Turunkan skor kemiskinan & stunting\n",
        "df_update.loc[mask_program, \"risk_score\"] *= np.random.uniform(0.7, 0.9, mask_program.sum())\n",
        "df_update.loc[mask_program, \"stunting_risk_score\"] *= np.random.uniform(0.7, 0.9, mask_program.sum())\n",
        "\n",
        "# Tambahkan suffix kolom biar jelas (before/after)\n",
        "df_update = df_update.rename(columns={\n",
        "    \"risk_score\": \"risk_score_after\",\n",
        "    \"stunting_risk_score\": \"stunting_risk_score_after\"\n",
        "})\n",
        "\n",
        "# Simpan\n",
        "df_update.to_csv(\"dtsen_update_2026.csv\", index=False)\n",
        "print(\"✅ Dummy data update berhasil dibuat: dtsen_update_2026.csv\")\n"
      ]
    }
  ]
}